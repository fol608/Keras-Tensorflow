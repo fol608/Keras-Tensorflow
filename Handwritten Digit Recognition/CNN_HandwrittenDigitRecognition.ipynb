{
  "nbformat": 4,
  "nbformat_minor": 0,
  "metadata": {
    "colab": {
      "provenance": [],
      "gpuType": "T4"
    },
    "kernelspec": {
      "name": "python3",
      "display_name": "Python 3"
    },
    "language_info": {
      "name": "python"
    },
    "accelerator": "GPU"
  },
  "cells": [
    {
      "cell_type": "code",
      "execution_count": null,
      "metadata": {
        "id": "fogcgb_KU7QV"
      },
      "outputs": [],
      "source": [
        "import torch\n",
        "dispositivo = torch.device('cuda' if torch.cuda.is_available() else 'cpu')"
      ]
    },
    {
      "cell_type": "code",
      "source": [
        "#Carga y preprocesado de datos\n",
        "\n",
        "import torchvision.datasets as datasets\n",
        "import torchvision.transforms as transforms\n",
        "\n",
        "tam_batch = 64\n",
        "\n",
        "train_dataset = datasets.MNIST(\n",
        "    root = './datos',\n",
        "    train = True,\n",
        "    transform = transforms.ToTensor(),\n",
        "    download = True\n",
        ")\n",
        "\n",
        "train_loader = torch.utils.data.DataLoader(\n",
        "    train_dataset,\n",
        "    batch_size = tam_batch,\n",
        "    shuffle = True\n",
        ")\n",
        "\n",
        "test_dataset = datasets.MNIST(\n",
        "    root = './datos',\n",
        "    train = False,\n",
        "    transform = transforms.ToTensor(),\n",
        ")\n",
        "\n",
        "test_loader = torch.utils.data.DataLoader(\n",
        "    test_dataset,\n",
        "    batch_size = tam_batch,\n",
        "    shuffle = False\n",
        ")\n",
        "\n",
        "\n"
      ],
      "metadata": {
        "colab": {
          "base_uri": "https://localhost:8080/"
        },
        "id": "y1Uwjb_FY1p8",
        "outputId": "2318edee-826f-44b0-b2f4-e68c6dcce131"
      },
      "execution_count": null,
      "outputs": [
        {
          "output_type": "stream",
          "name": "stdout",
          "text": [
            "Downloading http://yann.lecun.com/exdb/mnist/train-images-idx3-ubyte.gz\n",
            "Failed to download (trying next):\n",
            "HTTP Error 403: Forbidden\n",
            "\n",
            "Downloading https://ossci-datasets.s3.amazonaws.com/mnist/train-images-idx3-ubyte.gz\n",
            "Downloading https://ossci-datasets.s3.amazonaws.com/mnist/train-images-idx3-ubyte.gz to ./datos/MNIST/raw/train-images-idx3-ubyte.gz\n"
          ]
        },
        {
          "output_type": "stream",
          "name": "stderr",
          "text": [
            "100%|██████████| 9912422/9912422 [00:00<00:00, 16513802.74it/s]\n"
          ]
        },
        {
          "output_type": "stream",
          "name": "stdout",
          "text": [
            "Extracting ./datos/MNIST/raw/train-images-idx3-ubyte.gz to ./datos/MNIST/raw\n",
            "\n",
            "Downloading http://yann.lecun.com/exdb/mnist/train-labels-idx1-ubyte.gz\n",
            "Failed to download (trying next):\n",
            "HTTP Error 403: Forbidden\n",
            "\n",
            "Downloading https://ossci-datasets.s3.amazonaws.com/mnist/train-labels-idx1-ubyte.gz\n",
            "Downloading https://ossci-datasets.s3.amazonaws.com/mnist/train-labels-idx1-ubyte.gz to ./datos/MNIST/raw/train-labels-idx1-ubyte.gz\n"
          ]
        },
        {
          "output_type": "stream",
          "name": "stderr",
          "text": [
            "100%|██████████| 28881/28881 [00:00<00:00, 490898.93it/s]\n"
          ]
        },
        {
          "output_type": "stream",
          "name": "stdout",
          "text": [
            "Extracting ./datos/MNIST/raw/train-labels-idx1-ubyte.gz to ./datos/MNIST/raw\n",
            "\n",
            "Downloading http://yann.lecun.com/exdb/mnist/t10k-images-idx3-ubyte.gz\n",
            "Failed to download (trying next):\n",
            "HTTP Error 403: Forbidden\n",
            "\n",
            "Downloading https://ossci-datasets.s3.amazonaws.com/mnist/t10k-images-idx3-ubyte.gz\n",
            "Downloading https://ossci-datasets.s3.amazonaws.com/mnist/t10k-images-idx3-ubyte.gz to ./datos/MNIST/raw/t10k-images-idx3-ubyte.gz\n"
          ]
        },
        {
          "output_type": "stream",
          "name": "stderr",
          "text": [
            "100%|██████████| 1648877/1648877 [00:00<00:00, 4483812.96it/s]\n"
          ]
        },
        {
          "output_type": "stream",
          "name": "stdout",
          "text": [
            "Extracting ./datos/MNIST/raw/t10k-images-idx3-ubyte.gz to ./datos/MNIST/raw\n",
            "\n",
            "Downloading http://yann.lecun.com/exdb/mnist/t10k-labels-idx1-ubyte.gz\n",
            "Failed to download (trying next):\n",
            "HTTP Error 403: Forbidden\n",
            "\n",
            "Downloading https://ossci-datasets.s3.amazonaws.com/mnist/t10k-labels-idx1-ubyte.gz\n",
            "Downloading https://ossci-datasets.s3.amazonaws.com/mnist/t10k-labels-idx1-ubyte.gz to ./datos/MNIST/raw/t10k-labels-idx1-ubyte.gz\n"
          ]
        },
        {
          "output_type": "stream",
          "name": "stderr",
          "text": [
            "100%|██████████| 4542/4542 [00:00<00:00, 9829994.20it/s]"
          ]
        },
        {
          "output_type": "stream",
          "name": "stdout",
          "text": [
            "Extracting ./datos/MNIST/raw/t10k-labels-idx1-ubyte.gz to ./datos/MNIST/raw\n",
            "\n"
          ]
        },
        {
          "output_type": "stream",
          "name": "stderr",
          "text": [
            "\n"
          ]
        }
      ]
    },
    {
      "cell_type": "code",
      "source": [
        "# Visualización de los datos\n",
        "\n",
        "import matplotlib.pyplot as plt\n",
        "import numpy as np\n",
        "\n",
        "print(f'Tamaño del conjunto de entrenamiento: {len(train_dataset.data)}')\n",
        "print(f'Tamaño del conjunto de test: {len(test_dataset.data)}')\n",
        "\n",
        "imagenes, etiquetas = next(iter(train_loader))\n",
        "print(f'Tamaño de las imagenes: {imagenes.shape} \\n')\n",
        "\n",
        "fig,axs = plt.subplots(1,2,figsize=(10,10))\n",
        "for i in range(2):\n",
        "  axs[i].imshow(np.squeeze(imagenes[i]),cmap='gray')\n",
        "  axs[i].set_title(f'Etiqueta: {etiquetas[i]}')\n",
        "  axs[i].axis('off')\n",
        "plt.show()"
      ],
      "metadata": {
        "colab": {
          "base_uri": "https://localhost:8080/",
          "height": 480
        },
        "id": "9kgyiN8qayaD",
        "outputId": "66645043-b19a-4740-818e-888c04158de0"
      },
      "execution_count": null,
      "outputs": [
        {
          "output_type": "stream",
          "name": "stdout",
          "text": [
            "Tamaño del conjunto de entrenamiento: 60000\n",
            "Tamaño del conjunto de test: 10000\n",
            "Tamaño de las imagenes: torch.Size([64, 1, 28, 28]) \n",
            "\n"
          ]
        },
        {
          "output_type": "display_data",
          "data": {
            "text/plain": [
              "<Figure size 1000x1000 with 2 Axes>"
            ],
            "image/png": "[encoded data removed]"
          },
          "metadata": {}
        }
      ]
    },
    {
      "cell_type": "code",
      "source": [
        "#Implementación CNN\n",
        "\n",
        "import torch.nn as nn\n",
        "\n",
        "class CNN(nn.Module):\n",
        "  def __init__(self):\n",
        "    super(CNN,self).__init__()\n",
        "\n",
        "    #Extracción de características\n",
        "    self.conv1 = nn.Conv2d(1,6,kernel_size=5,padding='same')\n",
        "    self.pool1 = nn.MaxPool2d(kernel_size=2)\n",
        "    self.conv2 = nn.Conv2d(6,16,kernel_size=5,padding='same')\n",
        "    self.pool2 = nn.MaxPool2d(kernel_size=2)\n",
        "\n",
        "    #Clasificador de carácterísticas\n",
        "    self.flatten = nn.Flatten()\n",
        "    self.lin1 = nn.Linear(16 * 7 * 7, 120)\n",
        "    self.lin2 = nn.Linear(120, 84)\n",
        "    self.lin3 = nn.Linear(84, 10)\n",
        "\n",
        "    #Activación\n",
        "    self.relu = nn.ReLU()\n",
        "\n",
        "  def forward(self,x):\n",
        "    x = self.relu(self.conv1(x))\n",
        "    x = self.pool1(x)\n",
        "    x = self.relu(self.conv2(x))\n",
        "    x = self.pool2(x)\n",
        "    x = self.flatten(x)\n",
        "    x = self.relu(self.lin1(x))\n",
        "    x = self.relu(self.lin2(x))\n",
        "    y = self.lin3(x)\n",
        "\n",
        "    return y\n",
        "\n",
        "modelo = CNN()\n",
        "modelo.to(dispositivo)"
      ],
      "metadata": {
        "id": "-LWx4GCsda2o",
        "colab": {
          "base_uri": "https://localhost:8080/"
        },
        "outputId": "1f44e60e-c6d4-452a-8bc6-574046084bd3"
      },
      "execution_count": null,
      "outputs": [
        {
          "output_type": "execute_result",
          "data": {
            "text/plain": [
              "CNN(\n",
              "  (conv1): Conv2d(1, 6, kernel_size=(5, 5), stride=(1, 1), padding=same)\n",
              "  (pool1): MaxPool2d(kernel_size=2, stride=2, padding=0, dilation=1, ceil_mode=False)\n",
              "  (conv2): Conv2d(6, 16, kernel_size=(5, 5), stride=(1, 1), padding=same)\n",
              "  (pool2): MaxPool2d(kernel_size=2, stride=2, padding=0, dilation=1, ceil_mode=False)\n",
              "  (flatten): Flatten(start_dim=1, end_dim=-1)\n",
              "  (lin1): Linear(in_features=784, out_features=120, bias=True)\n",
              "  (lin2): Linear(in_features=120, out_features=84, bias=True)\n",
              "  (lin3): Linear(in_features=84, out_features=10, bias=True)\n",
              "  (relu): ReLU()\n",
              ")"
            ]
          },
          "metadata": {},
          "execution_count": 7
        }
      ]
    },
    {
      "cell_type": "code",
      "source": [
        "def epoca_train(\n",
        "    modelo,train_loader,optimizador,func_perdida,dispositivo):\n",
        "  epoca_perdidas = []\n",
        "  for i, (imagenes,etiquetas) in enumerate(train_loader):\n",
        "    imagenes = imagenes.to(dispositivo)\n",
        "    etiquetas = etiquetas.to(dispositivo)\n",
        "    optimizador.zero_grad()\n",
        "    salidas = modelo(imagenes)\n",
        "    perdida = func_perdida(salidas,etiquetas)\n",
        "    perdida.backward()\n",
        "    optimizador.step()\n",
        "    epoca_perdidas.append(perdida.item())\n",
        "\n",
        "  return sum(epoca_perdidas) / len(epoca_perdidas)"
      ],
      "metadata": {
        "id": "ZBFi2OZ0_okx"
      },
      "execution_count": null,
      "outputs": []
    },
    {
      "cell_type": "code",
      "source": [
        "def epoca_test(modelo,test_loader,dispositivo):\n",
        "  modelo.eval()\n",
        "  with torch.no_grad():\n",
        "    correcto = 0\n",
        "    total = 0\n",
        "    for imagenes,etiquetas in test_loader:\n",
        "      imagenes = imagenes.to(dispositivo)\n",
        "      etiquetas = etiquetas.to(dispositivo)\n",
        "      salidas = modelo(imagenes)\n",
        "      salidas = salidas.softmax(dim=1)\n",
        "      prediccion = salidas.argmax(dim=1)\n",
        "      total += etiquetas.size(0)\n",
        "      correcto += (prediccion == etiquetas).sum().item()\n",
        "\n",
        "    exactitud = 100 * correcto / total\n",
        "  modelo.train()\n",
        "  return exactitud"
      ],
      "metadata": {
        "id": "QsbjSuEOA_8O"
      },
      "execution_count": null,
      "outputs": []
    },
    {
      "cell_type": "code",
      "source": [
        "#Entrenamiento\n",
        "\n",
        "import torch.optim as optim\n",
        "\n",
        "optimizador = optim.Adam(modelo.parameters())\n",
        "func_perdida = nn.CrossEntropyLoss()\n",
        "train_accs = []\n",
        "test_accs = []\n",
        "perdida = []\n",
        "epocas = 15\n",
        "\n",
        "for epoca in range(epocas):\n",
        "  train_perdida = epoca_train(\n",
        "      modelo, train_loader, optimizador, func_perdida, dispositivo)\n",
        "  perdida.append(train_perdida)\n",
        "  train_acc = epoca_test(modelo, train_loader, dispositivo)\n",
        "  train_accs.append(train_acc)\n",
        "  test_acc = epoca_test(modelo, test_loader, dispositivo)\n",
        "  test_accs.append(test_acc)\n",
        "  print(f'Época {epoca + 1} / {epocas},\\\n",
        "        pérdida = {train_perdida:.4f},\\\n",
        "        exactitud_train = {train_acc:.2f}%,\\\n",
        "        exactitud_test = {test_acc:.2f}%')\n",
        "  print('Fin del entrenamiento')"
      ],
      "metadata": {
        "id": "6ZLdqVj_CuxG",
        "colab": {
          "base_uri": "https://localhost:8080/"
        },
        "outputId": "de0621a9-cc8b-4650-e0ff-8df92b5215ec"
      },
      "execution_count": null,
      "outputs": [
        {
          "output_type": "stream",
          "name": "stdout",
          "text": [
            "Época 1 / 15,        pérdida = 0.2726,        exactitud_train = 97.60%,        exactitud_test = 98.01%\n",
            "Fin del entrenamiento\n",
            "Época 2 / 15,        pérdida = 0.0698,        exactitud_train = 98.43%,        exactitud_test = 98.39%\n",
            "Fin del entrenamiento\n",
            "Época 3 / 15,        pérdida = 0.0505,        exactitud_train = 98.88%,        exactitud_test = 98.62%\n",
            "Fin del entrenamiento\n",
            "Época 4 / 15,        pérdida = 0.0387,        exactitud_train = 98.97%,        exactitud_test = 98.61%\n",
            "Fin del entrenamiento\n",
            "Época 5 / 15,        pérdida = 0.0316,        exactitud_train = 99.35%,        exactitud_test = 98.97%\n",
            "Fin del entrenamiento\n",
            "Época 6 / 15,        pérdida = 0.0255,        exactitud_train = 99.19%,        exactitud_test = 98.74%\n",
            "Fin del entrenamiento\n",
            "Época 7 / 15,        pérdida = 0.0221,        exactitud_train = 99.33%,        exactitud_test = 98.77%\n",
            "Fin del entrenamiento\n",
            "Época 8 / 15,        pérdida = 0.0196,        exactitud_train = 99.47%,        exactitud_test = 98.96%\n",
            "Fin del entrenamiento\n",
            "Época 9 / 15,        pérdida = 0.0156,        exactitud_train = 99.53%,        exactitud_test = 98.86%\n",
            "Fin del entrenamiento\n",
            "Época 10 / 15,        pérdida = 0.0155,        exactitud_train = 99.67%,        exactitud_test = 99.02%\n",
            "Fin del entrenamiento\n",
            "Época 11 / 15,        pérdida = 0.0133,        exactitud_train = 99.80%,        exactitud_test = 99.05%\n",
            "Fin del entrenamiento\n",
            "Época 12 / 15,        pérdida = 0.0114,        exactitud_train = 99.48%,        exactitud_test = 98.94%\n",
            "Fin del entrenamiento\n",
            "Época 13 / 15,        pérdida = 0.0117,        exactitud_train = 99.75%,        exactitud_test = 98.96%\n",
            "Fin del entrenamiento\n",
            "Época 14 / 15,        pérdida = 0.0093,        exactitud_train = 99.64%,        exactitud_test = 98.93%\n",
            "Fin del entrenamiento\n",
            "Época 15 / 15,        pérdida = 0.0091,        exactitud_train = 99.69%,        exactitud_test = 99.00%\n",
            "Fin del entrenamiento\n"
          ]
        }
      ]
    },
    {
      "cell_type": "code",
      "source": [
        "# Cross-Entropy\n",
        "\n",
        "plt.plot(perdida)\n",
        "plt.xlabel('Época')\n",
        "plt.ylabel('Cross-Entropy')\n",
        "plt.show()"
      ],
      "metadata": {
        "colab": {
          "base_uri": "https://localhost:8080/",
          "height": 451
        },
        "id": "PK2EmOfrh6RK",
        "outputId": "86d96149-77c5-4cfa-bee9-8cfe86a797bd"
      },
      "execution_count": null,
      "outputs": [
        {
          "output_type": "display_data",
          "data": {
            "text/plain": [
              "<Figure size 640x480 with 1 Axes>"
            ],
            "image/png": "[encoded data removed]"
          },
          "metadata": {}
        }
      ]
    },
    {
      "cell_type": "code",
      "source": [
        "# Evaluación del modelo\n",
        "\n",
        "plt.plot(train_accs)\n",
        "plt.plot(test_accs)\n",
        "plt.xlabel('Época')\n",
        "plt.ylabel('Exactitud (%)')\n",
        "plt.legend(['Entrenamiento','Test'])\n",
        "plt.show()"
      ],
      "metadata": {
        "colab": {
          "base_uri": "https://localhost:8080/",
          "height": 451
        },
        "id": "zx23C7jSTNSC",
        "outputId": "76e44ba5-9f97-4138-e247-5539bbfba92f"
      },
      "execution_count": null,
      "outputs": [
        {
          "output_type": "display_data",
          "data": {
            "text/plain": [
              "<Figure size 640x480 with 1 Axes>"
            ],
            "image/png": "[encoded data removed]"
          },
          "metadata": {}
        }
      ]
    },
    {
      "cell_type": "code",
      "source": [
        "#Resultados y conclusiones\n",
        "\n",
        "imagenes, etiquetas = next(iter(test_loader))\n",
        "with torch.no_grad():\n",
        "    imagenes = imagenes.to(dispositivo)\n",
        "    etiquetas = etiquetas.to(dispositivo)\n",
        "    salidas = modelo(imagenes)\n",
        "    salidas = salidas.softmax(dim=1)\n",
        "    predicciones = salidas.argmax(dim=1)\n",
        "\n",
        "fig, axs = plt.subplots(1, 6, figsize=(8, 8))\n",
        "for i in range(6):\n",
        "    axs[i].imshow(np.squeeze(imagenes[i].cpu()), cmap='gray')\n",
        "    axs[i].set_title(f'V: {etiquetas[i]} P: {predicciones[i]}')\n",
        "    axs[i].axis('off')\n",
        "plt.show()\n"
      ],
      "metadata": {
        "colab": {
          "base_uri": "https://localhost:8080/",
          "height": 147
        },
        "id": "s5FN5GME45wK",
        "outputId": "814da322-ab01-4ec2-ca45-c5dde7e1184b"
      },
      "execution_count": null,
      "outputs": [
        {
          "output_type": "display_data",
          "data": {
            "text/plain": [
              "<Figure size 800x800 with 6 Axes>"
            ],
            "image/png": "[encoded data removed]"
          },
          "metadata": {}
        }
      ]
    }
  ]
}